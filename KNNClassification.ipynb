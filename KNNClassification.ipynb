{
 "cells": [
  {
   "cell_type": "code",
   "execution_count": 2,
   "metadata": {},
   "outputs": [],
   "source": [
    "# K-Nearest Neighbors Classification\n",
    "# K-nearest neighbors classifier (KNN) is a simple and powerful classification learner.\n",
    "# KNN has three basic parts:\n",
    "# 1) yi: The class of an observation (what we are trying to predict in the test data).\n",
    "# 2) Xi: The predictors/Input Variables/attributes of an observation.\n",
    "# 3) K: A positive number specified by the researcher. K denotes the number of neighbors\n",
    "# closest to a particular observation that define its “neighborhood”. For example, K=2 means\n",
    "# that each observation’s has a neighorhood comprising of the two other observations closest\n",
    "# to it.\n",
    "# Imagine we have an observation where we know its independent variables xtest but do not \n",
    "# know its class ytest. The KNN learner finds the K other observations that are closest to \n",
    "# xtest and uses their known classes to assign a class to test."
   ]
  },
  {
   "cell_type": "markdown",
   "metadata": {},
   "source": [
    "*__Preliminaries__*"
   ]
  },
  {
   "cell_type": "code",
   "execution_count": 3,
   "metadata": {},
   "outputs": [],
   "source": [
    "import pandas as pd\n",
    "from sklearn import neighbors\n",
    "import numpy as np\n",
    "import seaborn"
   ]
  },
  {
   "cell_type": "code",
   "execution_count": 4,
   "metadata": {},
   "outputs": [
    {
     "data": {
      "text/html": [
       "<div>\n",
       "<style scoped>\n",
       "    .dataframe tbody tr th:only-of-type {\n",
       "        vertical-align: middle;\n",
       "    }\n",
       "\n",
       "    .dataframe tbody tr th {\n",
       "        vertical-align: top;\n",
       "    }\n",
       "\n",
       "    .dataframe thead th {\n",
       "        text-align: right;\n",
       "    }\n",
       "</style>\n",
       "<table border=\"1\" class=\"dataframe\">\n",
       "  <thead>\n",
       "    <tr style=\"text-align: right;\">\n",
       "      <th></th>\n",
       "      <th>test_1</th>\n",
       "      <th>test_2</th>\n",
       "      <th>outcome</th>\n",
       "    </tr>\n",
       "  </thead>\n",
       "  <tbody>\n",
       "    <tr>\n",
       "      <th>0</th>\n",
       "      <td>0.3051</td>\n",
       "      <td>0.5846</td>\n",
       "      <td>win</td>\n",
       "    </tr>\n",
       "    <tr>\n",
       "      <th>1</th>\n",
       "      <td>0.4949</td>\n",
       "      <td>0.2654</td>\n",
       "      <td>win</td>\n",
       "    </tr>\n",
       "    <tr>\n",
       "      <th>2</th>\n",
       "      <td>0.6974</td>\n",
       "      <td>0.2615</td>\n",
       "      <td>win</td>\n",
       "    </tr>\n",
       "    <tr>\n",
       "      <th>3</th>\n",
       "      <td>0.3769</td>\n",
       "      <td>0.4538</td>\n",
       "      <td>win</td>\n",
       "    </tr>\n",
       "    <tr>\n",
       "      <th>4</th>\n",
       "      <td>0.2231</td>\n",
       "      <td>0.4615</td>\n",
       "      <td>win</td>\n",
       "    </tr>\n",
       "    <tr>\n",
       "      <th>5</th>\n",
       "      <td>0.3410</td>\n",
       "      <td>0.8308</td>\n",
       "      <td>loss</td>\n",
       "    </tr>\n",
       "    <tr>\n",
       "      <th>6</th>\n",
       "      <td>0.4436</td>\n",
       "      <td>0.4962</td>\n",
       "      <td>loss</td>\n",
       "    </tr>\n",
       "    <tr>\n",
       "      <th>7</th>\n",
       "      <td>0.5897</td>\n",
       "      <td>0.3269</td>\n",
       "      <td>loss</td>\n",
       "    </tr>\n",
       "    <tr>\n",
       "      <th>8</th>\n",
       "      <td>0.6308</td>\n",
       "      <td>0.5346</td>\n",
       "      <td>loss</td>\n",
       "    </tr>\n",
       "    <tr>\n",
       "      <th>9</th>\n",
       "      <td>0.5000</td>\n",
       "      <td>0.6731</td>\n",
       "      <td>loss</td>\n",
       "    </tr>\n",
       "  </tbody>\n",
       "</table>\n",
       "</div>"
      ],
      "text/plain": [
       "   test_1  test_2 outcome\n",
       "0  0.3051  0.5846     win\n",
       "1  0.4949  0.2654     win\n",
       "2  0.6974  0.2615     win\n",
       "3  0.3769  0.4538     win\n",
       "4  0.2231  0.4615     win\n",
       "5  0.3410  0.8308    loss\n",
       "6  0.4436  0.4962    loss\n",
       "7  0.5897  0.3269    loss\n",
       "8  0.6308  0.5346    loss\n",
       "9  0.5000  0.6731    loss"
      ]
     },
     "execution_count": 4,
     "metadata": {},
     "output_type": "execute_result"
    }
   ],
   "source": [
    "# Create Dataset\n",
    "# Here we create three variables, test_1 and test_2 are our\n",
    "# independent variables, ‘outcome’ is our dependent variable.\n",
    "# We will use this data to train our learner.\n",
    "\n",
    "training_data = pd.DataFrame()\n",
    "\n",
    "training_data['test_1'] = [0.3051,0.4949,0.6974,0.3769,0.2231,0.341,0.4436,0.5897,0.6308,0.5]\n",
    "training_data['test_2'] = [0.5846,0.2654,0.2615,0.4538,0.4615,0.8308,0.4962,0.3269,0.5346,0.6731]\n",
    "training_data['outcome'] = ['win','win','win','win','win','loss','loss','loss','loss','loss']\n",
    "\n",
    "training_data"
   ]
  },
  {
   "cell_type": "code",
   "execution_count": 5,
   "metadata": {},
   "outputs": [
    {
     "name": "stderr",
     "output_type": "stream",
     "text": [
      "C:\\Users\\Arnab\\anaconda3\\lib\\site-packages\\seaborn\\_decorators.py:36: FutureWarning: Pass the following variables as keyword args: x, y. From version 0.12, the only valid positional argument will be `data`, and passing other arguments without an explicit keyword will result in an error or misinterpretation.\n",
      "  warnings.warn(\n"
     ]
    },
    {
     "data": {
      "text/plain": [
       "<seaborn.axisgrid.FacetGrid at 0x21dc6f9d160>"
      ]
     },
     "execution_count": 5,
     "metadata": {},
     "output_type": "execute_result"
    },
    {
     "data": {
      "image/png": "[encoded data removed]",
      "text/plain": [
       "<Figure size 415.375x360 with 1 Axes>"
      ]
     },
     "metadata": {
      "needs_background": "light"
     },
     "output_type": "display_data"
    }
   ],
   "source": [
    "# Plot the data\n",
    "# This is not necessary, but because we only have three\n",
    "# variables, we can plot the training dataset. The X and Y\n",
    "# axes are the independent variables, while the colors of\n",
    "# the points are their classes.\n",
    "\n",
    "seaborn.lmplot('test_1', 'test_2', data=training_data, fit_reg=False, hue=\"outcome\", scatter_kws={\"marker\": \"D\",\"s\": 100})"
   ]
  },
  {
   "cell_type": "code",
   "execution_count": 6,
   "metadata": {},
   "outputs": [
    {
     "name": "stdout",
     "output_type": "stream",
     "text": [
      "X:  [[0.3051 0.5846]\n",
      " [0.4949 0.2654]\n",
      " [0.6974 0.2615]\n",
      " [0.3769 0.4538]\n",
      " [0.2231 0.4615]\n",
      " [0.341  0.8308]\n",
      " [0.4436 0.4962]\n",
      " [0.5897 0.3269]\n",
      " [0.6308 0.5346]\n",
      " [0.5    0.6731]] , Shape: (10, 2)\n",
      "y:  ['win' 'win' 'win' 'win' 'win' 'loss' 'loss' 'loss' 'loss' 'loss'] , Shape: (10,)\n"
     ]
    }
   ],
   "source": [
    "# Convert Data Into np.arrays\n",
    "# The scikit-learn library requires the data be formatted\n",
    "# as a numpy array. Here are doing that reformatting.\n",
    "\n",
    "X = training_data[['test_1', 'test_2']].to_numpy()\n",
    "y = np.array(training_data['outcome'])\n",
    "print (\"X: \",X, \", Shape:\", X.shape)\n",
    "print (\"y: \",y, \", Shape:\", y.shape)"
   ]
  },
  {
   "cell_type": "code",
   "execution_count": 9,
   "metadata": {},
   "outputs": [],
   "source": [
    "# Train The Learner\n",
    "# We shall train a KNN learner using the\n",
    "# parameters that an observation’s neighborhood is its three\n",
    "# closest neighors. weights = 'uniform' can be thought of as \n",
    "# the voting system used. For example, uniform means that all\n",
    "# neighbors get an equally weighted “vote” about an \n",
    "# observation’s class while weights = 'distance' would tell \n",
    "# the learner to weigh each observation’s “vote” by its\n",
    "# distance from the observation we are classifying."
   ]
  },
  {
   "cell_type": "code",
   "execution_count": 10,
   "metadata": {},
   "outputs": [
    {
     "name": "stdout",
     "output_type": "stream",
     "text": [
      "trained_model:  KNeighborsClassifier(n_neighbors=3)\n"
     ]
    }
   ],
   "source": [
    "clf = neighbors.KNeighborsClassifier(3, weights = 'uniform')\n",
    "trained_model = clf.fit(X, y)\n",
    "print (\"trained_model: \",trained_model)"
   ]
  },
  {
   "cell_type": "code",
   "execution_count": 11,
   "metadata": {},
   "outputs": [
    {
     "data": {
      "text/plain": [
       "0.8"
      ]
     },
     "execution_count": 11,
     "metadata": {},
     "output_type": "execute_result"
    }
   ],
   "source": [
    "# View The Model’s Score\n",
    "# How good is our trained model compared to our training \n",
    "# data?\n",
    "trained_model.score(X, y)"
   ]
  },
  {
   "cell_type": "code",
   "execution_count": 12,
   "metadata": {},
   "outputs": [],
   "source": [
    "# So our model is 80% accurate!\n",
    "# Apply The Learner To A New Data Point\n",
    "# Now that we have trained our model, we can predict the \n",
    "# class any new observation, ytest. Let us do that now!\n",
    "\n",
    "# Create a new observation with the value of the first\n",
    "# independent variable, 'test_1', as .4 \n",
    "# and the second independent variable, 'test_2', as .6 \n",
    "x_test = np.array([[.4,.6]])"
   ]
  },
  {
   "cell_type": "code",
   "execution_count": 13,
   "metadata": {},
   "outputs": [
    {
     "data": {
      "text/plain": [
       "array(['loss'], dtype=object)"
      ]
     },
     "execution_count": 13,
     "metadata": {},
     "output_type": "execute_result"
    }
   ],
   "source": [
    "# Apply the learner to the new, unclassified observation.\n",
    "trained_model.predict(x_test)"
   ]
  },
  {
   "cell_type": "code",
   "execution_count": 14,
   "metadata": {},
   "outputs": [
    {
     "data": {
      "text/plain": [
       "array([[0.66666667, 0.33333333]])"
      ]
     },
     "execution_count": 14,
     "metadata": {},
     "output_type": "execute_result"
    }
   ],
   "source": [
    "# We can even look at the probabilities the learner assigned \n",
    "# to each class:\n",
    "trained_model.predict_proba(x_test)"
   ]
  },
  {
   "cell_type": "code",
   "execution_count": 12,
   "metadata": {},
   "outputs": [],
   "source": [
    "# According to this result, the model predicted that the \n",
    "# observation was loss with a ~67% probability and win with \n",
    "# a ~33% probability. Because the observation had a greater\n",
    "# probability of being loss, it predicted that class for the\n",
    "# observation."
   ]
  },
  {
   "cell_type": "code",
   "execution_count": 13,
   "metadata": {},
   "outputs": [],
   "source": [
    "# Notes\n",
    "# The choice of K has major affects on the classifer created.\n",
    "# The greater the K, more linear (high bias and low variance)\n",
    "# the decision boundary.\n",
    "# There are a variety of ways to measure distance, two \n",
    "# popular being simple euclidean distance and \n",
    "# cosine similarity."
   ]
  },
  {
   "cell_type": "code",
   "execution_count": null,
   "metadata": {},
   "outputs": [],
   "source": []
  },
  {
   "cell_type": "code",
   "execution_count": null,
   "metadata": {},
   "outputs": [],
   "source": []
  }
 ],
 "metadata": {
  "kernelspec": {
   "display_name": "Python 3",
   "language": "python",
   "name": "python3"
  },
  "language_info": {
   "codemirror_mode": {
    "name": "ipython",
    "version": 3
   },
   "file_extension": ".py",
   "mimetype": "text/x-python",
   "name": "python",
   "nbconvert_exporter": "python",
   "pygments_lexer": "ipython3",
   "version": "3.8.8"
  }
 },
 "nbformat": 4,
 "nbformat_minor": 4
}
