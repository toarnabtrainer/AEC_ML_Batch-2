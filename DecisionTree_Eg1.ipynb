{
 "cells": [
  {
   "cell_type": "markdown",
   "metadata": {},
   "source": [
    "## Decision Tree Classifier"
   ]
  },
  {
   "cell_type": "markdown",
   "metadata": {},
   "source": [
    "### Bagging\n",
    "**Bagging attempts to reduce the chance overfitting complex models.**\n",
    "* It trains a large number of \"strong\" learners in parallel.\n",
    "* A strong learner is a model that's relatively unconstrained.\n",
    "* Bagging then combines all the strong learners together in order to \"smooth out\" their predictions.\n",
    "\n",
    "### Boosting\n",
    "**Boosting attempts to improve the predictive flexibility of simple models.**\n",
    "* It trains a large number of \"weak\" learners in sequence.\n",
    "* A weak learner is a constrained model (i.e., you could limit the max depth of each decision tree).\n",
    "* Each one in the sequence focuses on learning from the mistakes of the one before it.\n",
    "* Boosting then combines all the weak learners into a single strong learner."
   ]
  },
  {
   "cell_type": "markdown",
   "metadata": {},
   "source": [
    "### Random Forest Classifcation Trees\n",
    "**Random forests train a large number of “strong” decision trees and combine their predictions through bagging. In addition, there are two sources of “randomness” for random forests:**\n",
    "* Each tree is only allowed to choose from a random subset of features to split on (leading to feature selection).\n",
    "* Each tree is only trained on a random subset of observations (a process called resampling).\n",
    "* In practice, random forests tend to perform very well right out of the box. They often beat many other models that take up to weeks to develop. They don’t have many complicated parameters to tune, making them the perfect “swiss-army-knife” algorithm that almost always gets good results."
   ]
  },
  {
   "cell_type": "markdown",
   "metadata": {},
   "source": [
    "### Boosted Trees\n",
    "**Boosted trees train a sequence of “weak”, constrained decision trees and combine their predictions through boosting.**\n",
    "* Each tree is allowed a maximum depth, which should be tuned.\n",
    "* Each tree in the sequence tries to correct the prediction errors of the one before it.\n",
    "* In practice, boosted trees tend to have the highest performance ceilings. They often beat many other types of models after proper tuning, but they are more complicated to tune than random forests."
   ]
  },
  {
   "cell_type": "markdown",
   "metadata": {},
   "source": [
    "<b>Reading Data</b>"
   ]
  },
  {
   "cell_type": "code",
   "execution_count": 1,
   "metadata": {},
   "outputs": [
    {
     "data": {
      "text/html": [
       "<div>\n",
       "<style scoped>\n",
       "    .dataframe tbody tr th:only-of-type {\n",
       "        vertical-align: middle;\n",
       "    }\n",
       "\n",
       "    .dataframe tbody tr th {\n",
       "        vertical-align: top;\n",
       "    }\n",
       "\n",
       "    .dataframe thead th {\n",
       "        text-align: right;\n",
       "    }\n",
       "</style>\n",
       "<table border=\"1\" class=\"dataframe\">\n",
       "  <thead>\n",
       "    <tr style=\"text-align: right;\">\n",
       "      <th></th>\n",
       "      <th>Card_Cust_ID</th>\n",
       "      <th>Gender</th>\n",
       "      <th>Education_level</th>\n",
       "      <th>Unnamed: 3</th>\n",
       "      <th>Last_Month_spend</th>\n",
       "      <th>Last_3m_avg_spend</th>\n",
       "      <th>Spend_Drop_over50pct</th>\n",
       "    </tr>\n",
       "  </thead>\n",
       "  <tbody>\n",
       "    <tr>\n",
       "      <th>0</th>\n",
       "      <td>1000001</td>\n",
       "      <td>F</td>\n",
       "      <td>University</td>\n",
       "      <td>NaN</td>\n",
       "      <td>160</td>\n",
       "      <td>200</td>\n",
       "      <td>1</td>\n",
       "    </tr>\n",
       "    <tr>\n",
       "      <th>1</th>\n",
       "      <td>1000002</td>\n",
       "      <td>F</td>\n",
       "      <td>University</td>\n",
       "      <td>NaN</td>\n",
       "      <td>250</td>\n",
       "      <td>190</td>\n",
       "      <td>0</td>\n",
       "    </tr>\n",
       "    <tr>\n",
       "      <th>2</th>\n",
       "      <td>1000003</td>\n",
       "      <td>F</td>\n",
       "      <td>University</td>\n",
       "      <td>NaN</td>\n",
       "      <td>470</td>\n",
       "      <td>530</td>\n",
       "      <td>0</td>\n",
       "    </tr>\n",
       "    <tr>\n",
       "      <th>3</th>\n",
       "      <td>1000004</td>\n",
       "      <td>F</td>\n",
       "      <td>University</td>\n",
       "      <td>NaN</td>\n",
       "      <td>830</td>\n",
       "      <td>800</td>\n",
       "      <td>0</td>\n",
       "    </tr>\n",
       "    <tr>\n",
       "      <th>4</th>\n",
       "      <td>1000005</td>\n",
       "      <td>M</td>\n",
       "      <td>University</td>\n",
       "      <td>NaN</td>\n",
       "      <td>750</td>\n",
       "      <td>480</td>\n",
       "      <td>0</td>\n",
       "    </tr>\n",
       "  </tbody>\n",
       "</table>\n",
       "</div>"
      ],
      "text/plain": [
       "   Card_Cust_ID Gender Education_level  Unnamed: 3  Last_Month_spend  \\\n",
       "0       1000001      F      University         NaN               160   \n",
       "1       1000002      F      University         NaN               250   \n",
       "2       1000003      F      University         NaN               470   \n",
       "3       1000004      F      University         NaN               830   \n",
       "4       1000005      M      University         NaN               750   \n",
       "\n",
       "   Last_3m_avg_spend  Spend_Drop_over50pct  \n",
       "0                200                     1  \n",
       "1                190                     0  \n",
       "2                530                     0  \n",
       "3                800                     0  \n",
       "4                480                     0  "
      ]
     },
     "execution_count": 1,
     "metadata": {},
     "output_type": "execute_result"
    }
   ],
   "source": [
    "# Read data from \n",
    "import pandas as pd\n",
    "binary = pd.read_csv('E:\\datafile\\dt_data.csv')\n",
    "binary.head()"
   ]
  },
  {
   "cell_type": "markdown",
   "metadata": {},
   "source": [
    "<b>Explore Data</b>"
   ]
  },
  {
   "cell_type": "code",
   "execution_count": 2,
   "metadata": {},
   "outputs": [
    {
     "data": {
      "text/html": [
       "<div>\n",
       "<style scoped>\n",
       "    .dataframe tbody tr th:only-of-type {\n",
       "        vertical-align: middle;\n",
       "    }\n",
       "\n",
       "    .dataframe tbody tr th {\n",
       "        vertical-align: top;\n",
       "    }\n",
       "\n",
       "    .dataframe thead th {\n",
       "        text-align: right;\n",
       "    }\n",
       "</style>\n",
       "<table border=\"1\" class=\"dataframe\">\n",
       "  <thead>\n",
       "    <tr style=\"text-align: right;\">\n",
       "      <th></th>\n",
       "      <th>Card_Cust_ID</th>\n",
       "      <th>Unnamed: 3</th>\n",
       "      <th>Last_Month_spend</th>\n",
       "      <th>Last_3m_avg_spend</th>\n",
       "      <th>Spend_Drop_over50pct</th>\n",
       "    </tr>\n",
       "  </thead>\n",
       "  <tbody>\n",
       "    <tr>\n",
       "      <th>count</th>\n",
       "      <td>4.750000e+02</td>\n",
       "      <td>0.0</td>\n",
       "      <td>475.000000</td>\n",
       "      <td>475.000000</td>\n",
       "      <td>475.000000</td>\n",
       "    </tr>\n",
       "    <tr>\n",
       "      <th>mean</th>\n",
       "      <td>1.002555e+06</td>\n",
       "      <td>NaN</td>\n",
       "      <td>602.147368</td>\n",
       "      <td>602.042105</td>\n",
       "      <td>0.263158</td>\n",
       "    </tr>\n",
       "    <tr>\n",
       "      <th>std</th>\n",
       "      <td>4.481438e+03</td>\n",
       "      <td>NaN</td>\n",
       "      <td>343.098348</td>\n",
       "      <td>343.130657</td>\n",
       "      <td>0.440812</td>\n",
       "    </tr>\n",
       "    <tr>\n",
       "      <th>min</th>\n",
       "      <td>1.000001e+06</td>\n",
       "      <td>NaN</td>\n",
       "      <td>10.000000</td>\n",
       "      <td>10.000000</td>\n",
       "      <td>0.000000</td>\n",
       "    </tr>\n",
       "    <tr>\n",
       "      <th>25%</th>\n",
       "      <td>1.000130e+06</td>\n",
       "      <td>NaN</td>\n",
       "      <td>310.000000</td>\n",
       "      <td>305.000000</td>\n",
       "      <td>0.000000</td>\n",
       "    </tr>\n",
       "    <tr>\n",
       "      <th>50%</th>\n",
       "      <td>1.000253e+06</td>\n",
       "      <td>NaN</td>\n",
       "      <td>600.000000</td>\n",
       "      <td>600.000000</td>\n",
       "      <td>0.000000</td>\n",
       "    </tr>\n",
       "    <tr>\n",
       "      <th>75%</th>\n",
       "      <td>1.000382e+06</td>\n",
       "      <td>NaN</td>\n",
       "      <td>900.000000</td>\n",
       "      <td>900.000000</td>\n",
       "      <td>1.000000</td>\n",
       "    </tr>\n",
       "    <tr>\n",
       "      <th>max</th>\n",
       "      <td>1.011114e+06</td>\n",
       "      <td>NaN</td>\n",
       "      <td>1190.000000</td>\n",
       "      <td>1200.000000</td>\n",
       "      <td>1.000000</td>\n",
       "    </tr>\n",
       "  </tbody>\n",
       "</table>\n",
       "</div>"
      ],
      "text/plain": [
       "       Card_Cust_ID  Unnamed: 3  Last_Month_spend  Last_3m_avg_spend  \\\n",
       "count  4.750000e+02         0.0        475.000000         475.000000   \n",
       "mean   1.002555e+06         NaN        602.147368         602.042105   \n",
       "std    4.481438e+03         NaN        343.098348         343.130657   \n",
       "min    1.000001e+06         NaN         10.000000          10.000000   \n",
       "25%    1.000130e+06         NaN        310.000000         305.000000   \n",
       "50%    1.000253e+06         NaN        600.000000         600.000000   \n",
       "75%    1.000382e+06         NaN        900.000000         900.000000   \n",
       "max    1.011114e+06         NaN       1190.000000        1200.000000   \n",
       "\n",
       "       Spend_Drop_over50pct  \n",
       "count            475.000000  \n",
       "mean               0.263158  \n",
       "std                0.440812  \n",
       "min                0.000000  \n",
       "25%                0.000000  \n",
       "50%                0.000000  \n",
       "75%                1.000000  \n",
       "max                1.000000  "
      ]
     },
     "execution_count": 2,
     "metadata": {},
     "output_type": "execute_result"
    }
   ],
   "source": [
    "# Describe a data frame in Python - summary statistics of all the variables\n",
    "binary.describe()"
   ]
  },
  {
   "cell_type": "code",
   "execution_count": 3,
   "metadata": {},
   "outputs": [
    {
     "data": {
      "text/plain": [
       "Index(['Card_Cust_ID', 'Gender', 'Education_level', 'Unnamed: 3',\n",
       "       'Last_Month_spend', 'Last_3m_avg_spend', 'Spend_Drop_over50pct'],\n",
       "      dtype='object')"
      ]
     },
     "execution_count": 3,
     "metadata": {},
     "output_type": "execute_result"
    }
   ],
   "source": [
    "# Columns\n",
    "binary.dtypes.index"
   ]
  },
  {
   "cell_type": "code",
   "execution_count": 4,
   "metadata": {},
   "outputs": [
    {
     "data": {
      "text/plain": [
       "Index(['Card_Cust_ID', 'Gender', 'Education_level', 'Last_Month_spend',\n",
       "       'Last_3m_avg_spend', 'Spend_Drop_over50pct'],\n",
       "      dtype='object')"
      ]
     },
     "execution_count": 4,
     "metadata": {},
     "output_type": "execute_result"
    }
   ],
   "source": [
    "# Drop a column\n",
    "binary.drop('Unnamed: 3', axis=1, inplace=True)\n",
    "\n",
    "binary.dtypes.index"
   ]
  },
  {
   "cell_type": "code",
   "execution_count": 5,
   "metadata": {},
   "outputs": [
    {
     "data": {
      "text/html": [
       "<div>\n",
       "<style scoped>\n",
       "    .dataframe tbody tr th:only-of-type {\n",
       "        vertical-align: middle;\n",
       "    }\n",
       "\n",
       "    .dataframe tbody tr th {\n",
       "        vertical-align: top;\n",
       "    }\n",
       "\n",
       "    .dataframe thead th {\n",
       "        text-align: right;\n",
       "    }\n",
       "</style>\n",
       "<table border=\"1\" class=\"dataframe\">\n",
       "  <thead>\n",
       "    <tr style=\"text-align: right;\">\n",
       "      <th></th>\n",
       "      <th>Card_Cust_ID</th>\n",
       "      <th>Gender</th>\n",
       "      <th>Education_level</th>\n",
       "      <th>Last_Month_spend</th>\n",
       "      <th>Last_3m_avg_spend</th>\n",
       "      <th>Spend_Drop_over50pct</th>\n",
       "    </tr>\n",
       "  </thead>\n",
       "  <tbody>\n",
       "    <tr>\n",
       "      <th>0</th>\n",
       "      <td>1000001</td>\n",
       "      <td>F</td>\n",
       "      <td>University</td>\n",
       "      <td>160</td>\n",
       "      <td>200</td>\n",
       "      <td>1</td>\n",
       "    </tr>\n",
       "    <tr>\n",
       "      <th>1</th>\n",
       "      <td>1000002</td>\n",
       "      <td>F</td>\n",
       "      <td>University</td>\n",
       "      <td>250</td>\n",
       "      <td>190</td>\n",
       "      <td>0</td>\n",
       "    </tr>\n",
       "    <tr>\n",
       "      <th>2</th>\n",
       "      <td>1000003</td>\n",
       "      <td>F</td>\n",
       "      <td>University</td>\n",
       "      <td>470</td>\n",
       "      <td>530</td>\n",
       "      <td>0</td>\n",
       "    </tr>\n",
       "    <tr>\n",
       "      <th>3</th>\n",
       "      <td>1000004</td>\n",
       "      <td>F</td>\n",
       "      <td>University</td>\n",
       "      <td>830</td>\n",
       "      <td>800</td>\n",
       "      <td>0</td>\n",
       "    </tr>\n",
       "    <tr>\n",
       "      <th>4</th>\n",
       "      <td>1000005</td>\n",
       "      <td>M</td>\n",
       "      <td>University</td>\n",
       "      <td>750</td>\n",
       "      <td>480</td>\n",
       "      <td>0</td>\n",
       "    </tr>\n",
       "  </tbody>\n",
       "</table>\n",
       "</div>"
      ],
      "text/plain": [
       "   Card_Cust_ID Gender Education_level  Last_Month_spend  Last_3m_avg_spend  \\\n",
       "0       1000001      F      University               160                200   \n",
       "1       1000002      F      University               250                190   \n",
       "2       1000003      F      University               470                530   \n",
       "3       1000004      F      University               830                800   \n",
       "4       1000005      M      University               750                480   \n",
       "\n",
       "   Spend_Drop_over50pct  \n",
       "0                     1  \n",
       "1                     0  \n",
       "2                     0  \n",
       "3                     0  \n",
       "4                     0  "
      ]
     },
     "execution_count": 5,
     "metadata": {},
     "output_type": "execute_result"
    }
   ],
   "source": [
    "binary.head()"
   ]
  },
  {
   "cell_type": "code",
   "execution_count": 6,
   "metadata": {},
   "outputs": [
    {
     "data": {
      "text/html": [
       "<div>\n",
       "<style scoped>\n",
       "    .dataframe tbody tr th:only-of-type {\n",
       "        vertical-align: middle;\n",
       "    }\n",
       "\n",
       "    .dataframe tbody tr th {\n",
       "        vertical-align: top;\n",
       "    }\n",
       "\n",
       "    .dataframe thead th {\n",
       "        text-align: right;\n",
       "    }\n",
       "</style>\n",
       "<table border=\"1\" class=\"dataframe\">\n",
       "  <thead>\n",
       "    <tr style=\"text-align: right;\">\n",
       "      <th></th>\n",
       "      <th>Card_Cust_ID</th>\n",
       "      <th>Gender</th>\n",
       "      <th>Education_level</th>\n",
       "      <th>Last_Month_spend</th>\n",
       "      <th>Last_3m_avg_spend</th>\n",
       "      <th>Spend_Drop_over50pct</th>\n",
       "    </tr>\n",
       "  </thead>\n",
       "  <tbody>\n",
       "    <tr>\n",
       "      <th>0</th>\n",
       "      <td>1000001</td>\n",
       "      <td>F</td>\n",
       "      <td>University</td>\n",
       "      <td>160</td>\n",
       "      <td>200</td>\n",
       "      <td>B</td>\n",
       "    </tr>\n",
       "    <tr>\n",
       "      <th>1</th>\n",
       "      <td>1000002</td>\n",
       "      <td>F</td>\n",
       "      <td>University</td>\n",
       "      <td>250</td>\n",
       "      <td>190</td>\n",
       "      <td>A</td>\n",
       "    </tr>\n",
       "    <tr>\n",
       "      <th>2</th>\n",
       "      <td>1000003</td>\n",
       "      <td>F</td>\n",
       "      <td>University</td>\n",
       "      <td>470</td>\n",
       "      <td>530</td>\n",
       "      <td>A</td>\n",
       "    </tr>\n",
       "    <tr>\n",
       "      <th>3</th>\n",
       "      <td>1000004</td>\n",
       "      <td>F</td>\n",
       "      <td>University</td>\n",
       "      <td>830</td>\n",
       "      <td>800</td>\n",
       "      <td>A</td>\n",
       "    </tr>\n",
       "    <tr>\n",
       "      <th>4</th>\n",
       "      <td>1000005</td>\n",
       "      <td>M</td>\n",
       "      <td>University</td>\n",
       "      <td>750</td>\n",
       "      <td>480</td>\n",
       "      <td>A</td>\n",
       "    </tr>\n",
       "  </tbody>\n",
       "</table>\n",
       "</div>"
      ],
      "text/plain": [
       "   Card_Cust_ID Gender Education_level  Last_Month_spend  Last_3m_avg_spend  \\\n",
       "0       1000001      F      University               160                200   \n",
       "1       1000002      F      University               250                190   \n",
       "2       1000003      F      University               470                530   \n",
       "3       1000004      F      University               830                800   \n",
       "4       1000005      M      University               750                480   \n",
       "\n",
       "  Spend_Drop_over50pct  \n",
       "0                    B  \n",
       "1                    A  \n",
       "2                    A  \n",
       "3                    A  \n",
       "4                    A  "
      ]
     },
     "execution_count": 6,
     "metadata": {},
     "output_type": "execute_result"
    }
   ],
   "source": [
    "# Target Variable to be made {-1, 1}\n",
    "binary.Spend_Drop_over50pct.replace([0, 1], ['A', 'B'], inplace=True)\n",
    " \n",
    "# Print a few rows\n",
    "binary.head()"
   ]
  },
  {
   "cell_type": "code",
   "execution_count": 7,
   "metadata": {},
   "outputs": [
    {
     "data": {
      "text/plain": [
       "A    350\n",
       "B    125\n",
       "Name: Spend_Drop_over50pct, dtype: int64"
      ]
     },
     "execution_count": 7,
     "metadata": {},
     "output_type": "execute_result"
    }
   ],
   "source": [
    "# Count Target Variable Values\n",
    "binary.Spend_Drop_over50pct.value_counts()"
   ]
  },
  {
   "cell_type": "code",
   "execution_count": 8,
   "metadata": {},
   "outputs": [
    {
     "data": {
      "text/plain": [
       "A    73.68\n",
       "B    26.32\n",
       "Name: Spend_Drop_over50pct, dtype: float64"
      ]
     },
     "execution_count": 8,
     "metadata": {},
     "output_type": "execute_result"
    }
   ],
   "source": [
    "# Find % Values of Target Variable Levels\n",
    "round(binary.Spend_Drop_over50pct.value_counts()*100/len(binary.axes[0]),2)"
   ]
  },
  {
   "cell_type": "code",
   "execution_count": 9,
   "metadata": {},
   "outputs": [
    {
     "data": {
      "text/plain": [
       "475"
      ]
     },
     "execution_count": 9,
     "metadata": {},
     "output_type": "execute_result"
    }
   ],
   "source": [
    "len(binary.axes[0])"
   ]
  },
  {
   "cell_type": "markdown",
   "metadata": {},
   "source": [
    "<b>Test and Train Sample</b>"
   ]
  },
  {
   "cell_type": "markdown",
   "metadata": {},
   "source": [
    "Now, we have a data sample, which can be considered for the modeling. We are splitting the data into Test Sample (which will be used for validating the model developed) and Train Sample (which will be used for Model development)."
   ]
  },
  {
   "cell_type": "code",
   "execution_count": 10,
   "metadata": {},
   "outputs": [
    {
     "data": {
      "text/html": [
       "<div>\n",
       "<style scoped>\n",
       "    .dataframe tbody tr th:only-of-type {\n",
       "        vertical-align: middle;\n",
       "    }\n",
       "\n",
       "    .dataframe tbody tr th {\n",
       "        vertical-align: top;\n",
       "    }\n",
       "\n",
       "    .dataframe thead th {\n",
       "        text-align: right;\n",
       "    }\n",
       "</style>\n",
       "<table border=\"1\" class=\"dataframe\">\n",
       "  <thead>\n",
       "    <tr style=\"text-align: right;\">\n",
       "      <th></th>\n",
       "      <th>Card_Cust_ID</th>\n",
       "      <th>Gender</th>\n",
       "      <th>Education_level</th>\n",
       "      <th>Last_Month_spend</th>\n",
       "      <th>Last_3m_avg_spend</th>\n",
       "      <th>Spend_Drop_over50pct</th>\n",
       "    </tr>\n",
       "  </thead>\n",
       "  <tbody>\n",
       "    <tr>\n",
       "      <th>34</th>\n",
       "      <td>1000037</td>\n",
       "      <td>M</td>\n",
       "      <td>Graduate</td>\n",
       "      <td>20</td>\n",
       "      <td>30</td>\n",
       "      <td>B</td>\n",
       "    </tr>\n",
       "    <tr>\n",
       "      <th>335</th>\n",
       "      <td>1000361</td>\n",
       "      <td>M</td>\n",
       "      <td>University</td>\n",
       "      <td>790</td>\n",
       "      <td>780</td>\n",
       "      <td>A</td>\n",
       "    </tr>\n",
       "    <tr>\n",
       "      <th>439</th>\n",
       "      <td>1011077</td>\n",
       "      <td>M</td>\n",
       "      <td>High School</td>\n",
       "      <td>1190</td>\n",
       "      <td>1190</td>\n",
       "      <td>A</td>\n",
       "    </tr>\n",
       "    <tr>\n",
       "      <th>4</th>\n",
       "      <td>1000005</td>\n",
       "      <td>M</td>\n",
       "      <td>University</td>\n",
       "      <td>750</td>\n",
       "      <td>480</td>\n",
       "      <td>A</td>\n",
       "    </tr>\n",
       "    <tr>\n",
       "      <th>169</th>\n",
       "      <td>1000183</td>\n",
       "      <td>M</td>\n",
       "      <td>University</td>\n",
       "      <td>460</td>\n",
       "      <td>400</td>\n",
       "      <td>B</td>\n",
       "    </tr>\n",
       "  </tbody>\n",
       "</table>\n",
       "</div>"
      ],
      "text/plain": [
       "     Card_Cust_ID Gender Education_level  Last_Month_spend  Last_3m_avg_spend  \\\n",
       "34        1000037      M        Graduate                20                 30   \n",
       "335       1000361      M      University               790                780   \n",
       "439       1011077      M     High School              1190               1190   \n",
       "4         1000005      M      University               750                480   \n",
       "169       1000183      M      University               460                400   \n",
       "\n",
       "    Spend_Drop_over50pct  \n",
       "34                     B  \n",
       "335                    A  \n",
       "439                    A  \n",
       "4                      A  \n",
       "169                    B  "
      ]
     },
     "execution_count": 10,
     "metadata": {},
     "output_type": "execute_result"
    }
   ],
   "source": [
    "# Split sample into Train and Test\n",
    "from sklearn.model_selection import train_test_split\n",
    "Train,Test = train_test_split(binary, test_size = 0.3, random_state = 176)\n",
    "\n",
    "# Print a few rows\n",
    "Train.head()"
   ]
  },
  {
   "cell_type": "code",
   "execution_count": 11,
   "metadata": {},
   "outputs": [],
   "source": [
    "# Keep Target and Independent Variable into different array\n",
    "Train_IndepentVars = Train.values[:, 3:5]\n",
    "Train_TargetVar = Train.values[:,5]"
   ]
  },
  {
   "cell_type": "code",
   "execution_count": 12,
   "metadata": {},
   "outputs": [
    {
     "data": {
      "text/plain": [
       "array([[20, 30],\n",
       "       [790, 780],\n",
       "       [1190, 1190],\n",
       "       [750, 480],\n",
       "       [460, 400],\n",
       "       [20, 380],\n",
       "       [200, 70],\n",
       "       [190, 120],\n",
       "       [1090, 1080],\n",
       "       [100, 170]], dtype=object)"
      ]
     },
     "execution_count": 12,
     "metadata": {},
     "output_type": "execute_result"
    }
   ],
   "source": [
    "Train_IndepentVars[:10]"
   ]
  },
  {
   "cell_type": "code",
   "execution_count": 13,
   "metadata": {},
   "outputs": [
    {
     "data": {
      "text/plain": [
       "array(['B', 'A', 'A', 'A', 'B', 'B', 'A', 'A', 'A', 'B', 'A', 'A', 'A',\n",
       "       'A', 'A', 'A', 'A', 'A', 'A', 'B'], dtype=object)"
      ]
     },
     "execution_count": 13,
     "metadata": {},
     "output_type": "execute_result"
    }
   ],
   "source": [
    "Train_TargetVar[:20]"
   ]
  },
  {
   "cell_type": "code",
   "execution_count": 14,
   "metadata": {},
   "outputs": [
    {
     "name": "stdout",
     "output_type": "stream",
     "text": [
      "Total rows =  332\n",
      "Total A-rows =  243\n",
      "Total B-rows =  89\n"
     ]
    }
   ],
   "source": [
    "print (\"Total rows = \", len(Train_TargetVar))\n",
    "print (\"Total A-rows = \", (Train_TargetVar == 'A').sum())\n",
    "print (\"Total B-rows = \", (Train_TargetVar == 'B').sum())"
   ]
  },
  {
   "cell_type": "markdown",
   "metadata": {},
   "source": [
    "We have arrays for independent variables and the target variable. \n",
    "We can now build decision tree classifier. \n",
    "We are using DecisionTreeClassifier from sklearn library.  \n",
    "\"gini\" option helps in leveraging CART - \n",
    "Classification and Regression Tree - algorithm for fitting the decision tree."
   ]
  },
  {
   "cell_type": "code",
   "execution_count": 15,
   "metadata": {},
   "outputs": [
    {
     "data": {
      "text/plain": [
       "DecisionTreeClassifier(max_depth=5, min_samples_leaf=5, random_state=100)"
      ]
     },
     "execution_count": 15,
     "metadata": {},
     "output_type": "execute_result"
    }
   ],
   "source": [
    "# Load library\n",
    "# from sklearn import tree\n",
    "from sklearn.tree import DecisionTreeClassifier\n",
    "# Building Decision Tree - CART Algorithm (gini criteria)\n",
    "dt_train_gini = DecisionTreeClassifier(criterion = \"gini\", random_state = 100,\n",
    "                               max_depth=5, min_samples_leaf=5)\n",
    "# Train\n",
    "dt_train_gini.fit(Train_IndepentVars, Train_TargetVar)"
   ]
  },
  {
   "cell_type": "code",
   "execution_count": 16,
   "metadata": {},
   "outputs": [
    {
     "data": {
      "text/plain": [
       "array(['A', 'A', 'A', 'A', 'A', 'A', 'A', 'A', 'A', 'A', 'A', 'A', 'A',\n",
       "       'A', 'B', 'A', 'A', 'A', 'B', 'A', 'A', 'A', 'A', 'A', 'B', 'A',\n",
       "       'A', 'A', 'B', 'A', 'A', 'A', 'B', 'A', 'B', 'A', 'A', 'A', 'A',\n",
       "       'A', 'A', 'B', 'A', 'A', 'A', 'A', 'A', 'B', 'A', 'A', 'A', 'A',\n",
       "       'A', 'B', 'A', 'B', 'A', 'A', 'A', 'A', 'A', 'A', 'A', 'A', 'A',\n",
       "       'B', 'A', 'A', 'A', 'A', 'A', 'A', 'B', 'A', 'A', 'A', 'A', 'A',\n",
       "       'A', 'B', 'A', 'B', 'A', 'A', 'A', 'A', 'B', 'B', 'A', 'A', 'A',\n",
       "       'A', 'A', 'A', 'A', 'A', 'B', 'A', 'A', 'B', 'B', 'B', 'A', 'A',\n",
       "       'B', 'A', 'A', 'A', 'A', 'A', 'A', 'B', 'A', 'A', 'B', 'B', 'A',\n",
       "       'A', 'A', 'A', 'A', 'A', 'B', 'A', 'A', 'A', 'A', 'B', 'A', 'A',\n",
       "       'A', 'A', 'A', 'A', 'A', 'B', 'A', 'B', 'A', 'A', 'A', 'B', 'A'],\n",
       "      dtype=object)"
      ]
     },
     "execution_count": 16,
     "metadata": {},
     "output_type": "execute_result"
    }
   ],
   "source": [
    "Test_new=Test.values[:,3:5]\n",
    "pred_output=dt_train_gini.predict(Test_new)\n",
    "pred_output"
   ]
  },
  {
   "cell_type": "code",
   "execution_count": 17,
   "metadata": {},
   "outputs": [
    {
     "name": "stdout",
     "output_type": "stream",
     "text": [
      "[[0.51851852 0.48148148]\n",
      " [0.73684211 0.26315789]\n",
      " [0.93333333 0.06666667]\n",
      " [0.89830508 0.10169492]\n",
      " [0.88157895 0.11842105]\n",
      " [0.89830508 0.10169492]\n",
      " [0.51851852 0.48148148]\n",
      " [0.73333333 0.26666667]\n",
      " [0.89830508 0.10169492]\n",
      " [1.         0.        ]]\n"
     ]
    }
   ],
   "source": [
    "print(dt_train_gini.predict_proba(Test_new)[:10])"
   ]
  },
  {
   "cell_type": "code",
   "execution_count": 18,
   "metadata": {},
   "outputs": [
    {
     "name": "stdout",
     "output_type": "stream",
     "text": [
      "[[0.88157895 0.11842105]\n",
      " [0.88157895 0.11842105]\n",
      " [0.         1.        ]\n",
      " [0.73333333 0.26666667]\n",
      " [0.         1.        ]\n",
      " [0.88157895 0.11842105]\n",
      " [0.73333333 0.26666667]\n",
      " [0.73684211 0.26315789]\n",
      " [0.3125     0.6875    ]\n",
      " [0.88157895 0.11842105]]\n"
     ]
    }
   ],
   "source": [
    "print(dt_train_gini.predict_proba(Test_new)[-10:])"
   ]
  },
  {
   "cell_type": "code",
   "execution_count": 19,
   "metadata": {},
   "outputs": [
    {
     "data": {
      "text/html": [
       "<div>\n",
       "<style scoped>\n",
       "    .dataframe tbody tr th:only-of-type {\n",
       "        vertical-align: middle;\n",
       "    }\n",
       "\n",
       "    .dataframe tbody tr th {\n",
       "        vertical-align: top;\n",
       "    }\n",
       "\n",
       "    .dataframe thead th {\n",
       "        text-align: right;\n",
       "    }\n",
       "</style>\n",
       "<table border=\"1\" class=\"dataframe\">\n",
       "  <thead>\n",
       "    <tr style=\"text-align: right;\">\n",
       "      <th>Predicted Values</th>\n",
       "      <th>A</th>\n",
       "      <th>B</th>\n",
       "    </tr>\n",
       "    <tr>\n",
       "      <th>Actual Value</th>\n",
       "      <th></th>\n",
       "      <th></th>\n",
       "    </tr>\n",
       "  </thead>\n",
       "  <tbody>\n",
       "    <tr>\n",
       "      <th>A</th>\n",
       "      <td>92</td>\n",
       "      <td>15</td>\n",
       "    </tr>\n",
       "    <tr>\n",
       "      <th>B</th>\n",
       "      <td>22</td>\n",
       "      <td>14</td>\n",
       "    </tr>\n",
       "  </tbody>\n",
       "</table>\n",
       "</div>"
      ],
      "text/plain": [
       "Predicted Values   A   B\n",
       "Actual Value            \n",
       "A                 92  15\n",
       "B                 22  14"
      ]
     },
     "execution_count": 19,
     "metadata": {},
     "output_type": "execute_result"
    }
   ],
   "source": [
    "# constructing confusion matrix\n",
    "actual_outputs = Test['Spend_Drop_over50pct']\n",
    "pd.crosstab(actual_outputs, pred_output, rownames=['Actual Value'], colnames=['Predicted Values'])"
   ]
  },
  {
   "cell_type": "code",
   "execution_count": 20,
   "metadata": {},
   "outputs": [
    {
     "name": "stdout",
     "output_type": "stream",
     "text": [
      "[0.62978053 0.37021947]\n"
     ]
    }
   ],
   "source": [
    "print (dt_train_gini.feature_importances_)"
   ]
  },
  {
   "cell_type": "code",
   "execution_count": 21,
   "metadata": {},
   "outputs": [
    {
     "name": "stdout",
     "output_type": "stream",
     "text": [
      "Index(['Last_Month_spend', 'Last_3m_avg_spend'], dtype='object')\n"
     ]
    },
    {
     "data": {
      "text/plain": [
       "{'Last_Month_spend': 0.6297805290500129,\n",
       " 'Last_3m_avg_spend': 0.37021947094998703}"
      ]
     },
     "execution_count": 21,
     "metadata": {},
     "output_type": "execute_result"
    }
   ],
   "source": [
    "features = Train.columns[3:5]\n",
    "print (features)\n",
    "dict(list(zip(features, dt_train_gini.feature_importances_)))"
   ]
  },
  {
   "cell_type": "code",
   "execution_count": 22,
   "metadata": {},
   "outputs": [
    {
     "name": "stdout",
     "output_type": "stream",
     "text": [
      "\tActual Value | Predicted Value\n",
      "1 \t    A \t\t   A \t\t\n",
      "2 \t    A \t\t   A \t\t\n",
      "3 \t    B \t\t   A \t\t\n",
      "4 \t    A \t\t   A \t\t\n",
      "5 \t    A \t\t   A \t\t\n",
      "6 \t    A \t\t   A \t\t\n",
      "7 \t    A \t\t   A \t\t\n",
      "8 \t    B \t\t   A \t\t\n",
      "9 \t    A \t\t   A \t\t\n",
      "10 \t    A \t\t   A \t\t\n",
      "11 \t    A \t\t   A \t\t\n",
      "12 \t    A \t\t   A \t\t\n",
      "13 \t    B \t\t   A \t\t\n",
      "14 \t    A \t\t   A \t\t\n",
      "15 \t    A \t\t   B \t\t\n",
      "16 \t    B \t\t   A \t\t\n",
      "17 \t    A \t\t   A \t\t\n",
      "18 \t    A \t\t   A \t\t\n",
      "19 \t    B \t\t   B \t\t\n",
      "20 \t    A \t\t   A \t\t\n",
      "21 \t    A \t\t   A \t\t\n",
      "22 \t    A \t\t   A \t\t\n",
      "23 \t    A \t\t   A \t\t\n",
      "24 \t    B \t\t   A \t\t\n",
      "25 \t    B \t\t   B \t\t\n",
      "26 \t    A \t\t   A \t\t\n",
      "27 \t    B \t\t   A \t\t\n",
      "28 \t    A \t\t   A \t\t\n",
      "29 \t    B \t\t   B \t\t\n",
      "30 \t    A \t\t   A \t\t\n",
      "31 \t    A \t\t   A \t\t\n",
      "32 \t    B \t\t   A \t\t\n",
      "33 \t    B \t\t   B \t\t\n",
      "34 \t    A \t\t   A \t\t\n",
      "35 \t    A \t\t   B \t\t\n",
      "36 \t    A \t\t   A \t\t\n",
      "37 \t    A \t\t   A \t\t\n",
      "38 \t    A \t\t   A \t\t\n",
      "39 \t    A \t\t   A \t\t\n",
      "40 \t    B \t\t   A \t\t\n",
      "41 \t    A \t\t   A \t\t\n",
      "42 \t    B \t\t   B \t\t\n",
      "43 \t    A \t\t   A \t\t\n",
      "44 \t    A \t\t   A \t\t\n",
      "45 \t    B \t\t   A \t\t\n",
      "46 \t    B \t\t   A \t\t\n",
      "47 \t    A \t\t   A \t\t\n",
      "48 \t    A \t\t   B \t\t\n",
      "49 \t    A \t\t   A \t\t\n",
      "50 \t    A \t\t   A \t\t\n",
      "51 \t    A \t\t   A \t\t\n",
      "52 \t    A \t\t   A \t\t\n",
      "53 \t    A \t\t   A \t\t\n",
      "54 \t    B \t\t   B \t\t\n",
      "55 \t    A \t\t   A \t\t\n",
      "56 \t    A \t\t   B \t\t\n",
      "57 \t    A \t\t   A \t\t\n",
      "58 \t    A \t\t   A \t\t\n",
      "59 \t    A \t\t   A \t\t\n",
      "60 \t    A \t\t   A \t\t\n",
      "61 \t    A \t\t   A \t\t\n",
      "62 \t    B \t\t   A \t\t\n",
      "63 \t    A \t\t   A \t\t\n",
      "64 \t    A \t\t   A \t\t\n",
      "65 \t    B \t\t   A \t\t\n",
      "66 \t    A \t\t   B \t\t\n",
      "67 \t    A \t\t   A \t\t\n",
      "68 \t    B \t\t   A \t\t\n",
      "69 \t    A \t\t   A \t\t\n",
      "70 \t    A \t\t   A \t\t\n",
      "71 \t    A \t\t   A \t\t\n",
      "72 \t    A \t\t   A \t\t\n",
      "73 \t    A \t\t   B \t\t\n",
      "74 \t    A \t\t   A \t\t\n",
      "75 \t    B \t\t   A \t\t\n",
      "76 \t    A \t\t   A \t\t\n",
      "77 \t    A \t\t   A \t\t\n",
      "78 \t    A \t\t   A \t\t\n",
      "79 \t    A \t\t   A \t\t\n",
      "80 \t    B \t\t   B \t\t\n",
      "81 \t    A \t\t   A \t\t\n",
      "82 \t    A \t\t   B \t\t\n",
      "83 \t    A \t\t   A \t\t\n",
      "84 \t    A \t\t   A \t\t\n",
      "85 \t    A \t\t   A \t\t\n",
      "86 \t    B \t\t   A \t\t\n",
      "87 \t    A \t\t   B \t\t\n",
      "88 \t    A \t\t   B \t\t\n",
      "89 \t    A \t\t   A \t\t\n",
      "90 \t    A \t\t   A \t\t\n",
      "91 \t    B \t\t   A \t\t\n",
      "92 \t    A \t\t   A \t\t\n",
      "93 \t    A \t\t   A \t\t\n",
      "94 \t    A \t\t   A \t\t\n",
      "95 \t    A \t\t   A \t\t\n",
      "96 \t    A \t\t   A \t\t\n",
      "97 \t    A \t\t   B \t\t\n",
      "98 \t    A \t\t   A \t\t\n",
      "99 \t    A \t\t   A \t\t\n",
      "100 \t    B \t\t   B \t\t\n",
      "101 \t    A \t\t   B \t\t\n",
      "102 \t    B \t\t   B \t\t\n",
      "103 \t    A \t\t   A \t\t\n",
      "104 \t    B \t\t   A \t\t\n",
      "105 \t    B \t\t   B \t\t\n",
      "106 \t    A \t\t   A \t\t\n",
      "107 \t    A \t\t   A \t\t\n",
      "108 \t    B \t\t   A \t\t\n",
      "109 \t    A \t\t   A \t\t\n",
      "110 \t    B \t\t   A \t\t\n",
      "111 \t    A \t\t   A \t\t\n",
      "112 \t    A \t\t   B \t\t\n",
      "113 \t    A \t\t   A \t\t\n",
      "114 \t    A \t\t   A \t\t\n",
      "115 \t    A \t\t   B \t\t\n",
      "116 \t    A \t\t   B \t\t\n",
      "117 \t    A \t\t   A \t\t\n",
      "118 \t    A \t\t   A \t\t\n",
      "119 \t    A \t\t   A \t\t\n",
      "120 \t    A \t\t   A \t\t\n",
      "121 \t    A \t\t   A \t\t\n",
      "122 \t    A \t\t   A \t\t\n",
      "123 \t    A \t\t   B \t\t\n",
      "124 \t    B \t\t   A \t\t\n",
      "125 \t    A \t\t   A \t\t\n",
      "126 \t    A \t\t   A \t\t\n",
      "127 \t    A \t\t   A \t\t\n",
      "128 \t    B \t\t   B \t\t\n",
      "129 \t    B \t\t   A \t\t\n",
      "130 \t    A \t\t   A \t\t\n",
      "131 \t    A \t\t   A \t\t\n",
      "132 \t    A \t\t   A \t\t\n",
      "133 \t    A \t\t   A \t\t\n",
      "134 \t    A \t\t   A \t\t\n",
      "135 \t    A \t\t   A \t\t\n",
      "136 \t    B \t\t   B \t\t\n",
      "137 \t    A \t\t   A \t\t\n",
      "138 \t    B \t\t   B \t\t\n",
      "139 \t    B \t\t   A \t\t\n",
      "140 \t    A \t\t   A \t\t\n",
      "141 \t    A \t\t   A \t\t\n",
      "142 \t    B \t\t   B \t\t\n",
      "143 \t    A \t\t   A \t\t\n"
     ]
    }
   ],
   "source": [
    "import numpy as np\n",
    "print(\"\\tActual Value | Predicted Value\")\n",
    "arr = np.concatenate((np.array(actual_outputs).reshape(-1,1), np.array(pred_output).reshape(-1,1)), axis=1)\n",
    "for i in range(len(arr)):\n",
    "    print((i+1),\"\\t\", end=\" \")\n",
    "    for j in range(2):\n",
    "        print(\"  \",arr[i][j],\"\\t\\t\", end=\"\")\n",
    "    print()"
   ]
  },
  {
   "cell_type": "code",
   "execution_count": 23,
   "metadata": {},
   "outputs": [
    {
     "name": "stdout",
     "output_type": "stream",
     "text": [
      "The accuracy of the model :  74.12587412587412 %\n"
     ]
    }
   ],
   "source": [
    "from sklearn.metrics import accuracy_score\n",
    "print(\"The accuracy of the model : \",accuracy_score(actual_outputs, pred_output)*100,\"%\")"
   ]
  },
  {
   "cell_type": "code",
   "execution_count": 24,
   "metadata": {},
   "outputs": [
    {
     "name": "stdout",
     "output_type": "stream",
     "text": [
      "              precision    recall  f1-score   support\n",
      "\n",
      "           A       0.81      0.86      0.83       107\n",
      "           B       0.48      0.39      0.43        36\n",
      "\n",
      "    accuracy                           0.74       143\n",
      "   macro avg       0.64      0.62      0.63       143\n",
      "weighted avg       0.73      0.74      0.73       143\n",
      "\n"
     ]
    }
   ],
   "source": [
    "from sklearn.metrics import classification_report\n",
    "target_names = ['A', 'B']\n",
    "print(classification_report(actual_outputs, pred_output, target_names=target_names))"
   ]
  },
  {
   "cell_type": "markdown",
   "metadata": {},
   "source": [
    "<b>Decision Tree Visualization</b>"
   ]
  },
  {
   "cell_type": "markdown",
   "metadata": {},
   "source": [
    "To see the decision tree plot we'll use graphviz."
   ]
  },
  {
   "cell_type": "code",
   "execution_count": 25,
   "metadata": {},
   "outputs": [],
   "source": [
    "from sklearn import tree\n",
    "with open(\"dt_train_gini.txt\", \"w\") as f:\n",
    "    f = tree.export_graphviz(dt_train_gini, out_file=f)"
   ]
  },
  {
   "cell_type": "markdown",
   "metadata": {},
   "source": [
    "This step create a text file dt_train_gini.txt in the default folder. We can give full path as well. We can copy the context of this text file and put into the box on http://www.webgraphviz.com/"
   ]
  },
  {
   "cell_type": "code",
   "execution_count": null,
   "metadata": {},
   "outputs": [],
   "source": []
  },
  {
   "cell_type": "code",
   "execution_count": null,
   "metadata": {},
   "outputs": [],
   "source": []
  },
  {
   "cell_type": "code",
   "execution_count": null,
   "metadata": {},
   "outputs": [],
   "source": []
  },
  {
   "cell_type": "code",
   "execution_count": null,
   "metadata": {},
   "outputs": [],
   "source": []
  },
  {
   "cell_type": "code",
   "execution_count": null,
   "metadata": {},
   "outputs": [],
   "source": []
  },
  {
   "cell_type": "code",
   "execution_count": null,
   "metadata": {},
   "outputs": [],
   "source": []
  },
  {
   "cell_type": "code",
   "execution_count": null,
   "metadata": {},
   "outputs": [],
   "source": []
  },
  {
   "cell_type": "code",
   "execution_count": null,
   "metadata": {},
   "outputs": [],
   "source": []
  },
  {
   "cell_type": "markdown",
   "metadata": {},
   "source": [
    "Step 1:\n",
    "pip install pydotplus\n",
    "\n",
    "Step 2:\n",
    "Download and install graphviz-2.50.0 (64-bit) EXE installer [sha256] (use the newest version) from https://graphviz.org/download/\n",
    "Set the path variable\n",
    "        (a) Control Panel > System and Security > System > Advanced System Settings > Environment Variables > Path > Edit\n",
    "        (b) add 'C:\\Program Files (x86)\\Graphviz2.38\\bin'"
   ]
  },
  {
   "cell_type": "code",
   "execution_count": 26,
   "metadata": {},
   "outputs": [
    {
     "data": {
      "image/png": "[encoded data removed]",
      "text/plain": [
       "<IPython.core.display.Image object>"
      ]
     },
     "execution_count": 26,
     "metadata": {},
     "output_type": "execute_result"
    }
   ],
   "source": [
    "# from sklearn.externals.six import StringIO\n",
    "from six import StringIO\n",
    "from IPython.display import Image \n",
    "from sklearn.tree import export_graphviz\n",
    "import pydotplus\n",
    "dot_data = StringIO()\n",
    "export_graphviz(dt_train_gini, out_file=dot_data,filled=True, rounded=True, special_characters=True)\n",
    "graph = pydotplus.graph_from_dot_data(dot_data.getvalue()) \n",
    "Image(graph.create_png())"
   ]
  },
  {
   "cell_type": "code",
   "execution_count": null,
   "metadata": {},
   "outputs": [],
   "source": []
  },
  {
   "cell_type": "code",
   "execution_count": null,
   "metadata": {},
   "outputs": [],
   "source": []
  }
 ],
 "metadata": {
  "kernelspec": {
   "display_name": "Python 3",
   "language": "python",
   "name": "python3"
  },
  "language_info": {
   "codemirror_mode": {
    "name": "ipython",
    "version": 3
   },
   "file_extension": ".py",
   "mimetype": "text/x-python",
   "name": "python",
   "nbconvert_exporter": "python",
   "pygments_lexer": "ipython3",
   "version": "3.8.8"
  }
 },
 "nbformat": 4,
 "nbformat_minor": 4
}
